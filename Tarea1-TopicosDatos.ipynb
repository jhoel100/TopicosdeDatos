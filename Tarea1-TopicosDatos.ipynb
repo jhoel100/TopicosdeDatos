{
 "cells": [
  {
   "cell_type": "code",
   "execution_count": 88,
   "metadata": {},
   "outputs": [],
   "source": [
    "#nombre: Jhoel Salomon Tapara Quispe\n",
    "import csv\n",
    "import math\n",
    " \n",
    "#importa los valores del csv\n",
    "with open('Movie_Ratings.csv', newline='') as File:  \n",
    "    reader = csv.reader(File)\n",
    "    matriz=[]\n",
    "    \n",
    "    for row in reader:\n",
    "        matriz.append(row)\n",
    "\n",
    "#si no encuentra dato porque esta vacio en cualquiera de los dos no puede comparar asigna 0\n",
    "#calcula la distancia de manhathan entre dos personas de columnas col1 y col2\n",
    "def distManhathan(matriz,col1,col2):\n",
    "    filas=len(matriz)-1\n",
    "    col=len(matriz[0])-1\n",
    "    \n",
    "    resultado=0\n",
    "    \n",
    "    for i in range(filas):\n",
    "        \n",
    "        if matriz[i+1][col1]!='':\n",
    "            num1=int(matriz[i+1][col1])\n",
    "\n",
    "        if matriz[i+1][col2]!='':\n",
    "            num2=int(matriz[i+1][col2])\n",
    "\n",
    "        if matriz[i+1][col2]=='' or matriz[i+1][col1]=='':\n",
    "            resultado=resultado+0\n",
    "        else:\n",
    "            resultado=resultado+abs(num1-num2)\n",
    "    return resultado\n",
    "\n",
    "#calcula la distancia Euclideana entre dos personas col1 y col2\n",
    "def distEuclideana(matriz,col1,col2):\n",
    "    filas=len(matriz)-1\n",
    "    col=len(matriz[0])-1\n",
    "    \n",
    "    resultado=0\n",
    "    \n",
    "    for i in range(filas):\n",
    "        \n",
    "        if matriz[i+1][col1]!='':\n",
    "            num1=int(matriz[i+1][col1])\n",
    "\n",
    "        if matriz[i+1][col2]!='':\n",
    "            num2=int(matriz[i+1][col2])\n",
    "            \n",
    "        if matriz[i+1][col2]=='' or matriz[i+1][col1]=='':\n",
    "            resultado=resultado+0\n",
    "        else:\n",
    "            resultado=resultado+round(math.sqrt(num1*num1+num2*num2),4)\n",
    "    return resultado"
   ]
  },
  {
   "cell_type": "code",
   "execution_count": 89,
   "metadata": {},
   "outputs": [
    {
     "name": "stdout",
     "output_type": "stream",
     "text": [
      "Distancia Euclideana\n",
      "62.4635\n",
      "Distancia de Manhathan\n",
      "11\n"
     ]
    }
   ],
   "source": [
    "#se empieza a enumerar desde 1 en las columnas\n",
    "print('Distancia Euclideana')\n",
    "print(distEuclideana(matriz,1,2))\n",
    "print('Distancia de Manhathan')\n",
    "print(distManhathan(matriz,1,2))"
   ]
  },
  {
   "cell_type": "code",
   "execution_count": 90,
   "metadata": {},
   "outputs": [
    {
     "name": "stdout",
     "output_type": "stream",
     "text": [
      "[[62.4635, 81.72509999999998, 66.1797, 81.36689999999999, 54.09290000000001], [74.63, 57.41480000000001, 78.80680000000001, 44.14770000000001], [67.5474, 98.25599999999999, 60.587900000000005], [64.7616, 33.59890000000001], [67.50640000000001]]\n"
     ]
    }
   ],
   "source": [
    "#Cacula las distancias Euclideanas de todos contra todos\n",
    "fila=[]\n",
    "total=[]\n",
    "\n",
    "filas=len(matriz)-1\n",
    "col=len(matriz[0])-1\n",
    "\n",
    "col=6\n",
    "for i in range(col-1):\n",
    "    for j in range(i+1,col):\n",
    "        fila.append(distEuclideana(matriz,i+1,j+1))\n",
    "    total.append(fila)\n",
    "    fila=[]\n",
    "print(total)"
   ]
  },
  {
   "cell_type": "code",
   "execution_count": 91,
   "metadata": {},
   "outputs": [
    {
     "name": "stdout",
     "output_type": "stream",
     "text": [
      "[[11, 14, 15, 10, 11], [12, 15, 17, 9], [14, 25, 14], [13, 10], [15]]\n"
     ]
    }
   ],
   "source": [
    "#Cacula las distancias de Manhathan de todos contra todos\n",
    "fila=[]\n",
    "total=[]\n",
    "\n",
    "filas=len(matriz)-1\n",
    "col=len(matriz[0])-1\n",
    "\n",
    "col=6\n",
    "for i in range(col-1):\n",
    "    for j in range(i+1,col):\n",
    "        fila.append(distManhathan(matriz,i+1,j+1))\n",
    "    total.append(fila)\n",
    "    fila=[]\n",
    "print(total)"
   ]
  },
  {
   "cell_type": "code",
   "execution_count": null,
   "metadata": {},
   "outputs": [],
   "source": []
  }
 ],
 "metadata": {
  "kernelspec": {
   "display_name": "Python 3",
   "language": "python",
   "name": "python3"
  },
  "language_info": {
   "codemirror_mode": {
    "name": "ipython",
    "version": 3
   },
   "file_extension": ".py",
   "mimetype": "text/x-python",
   "name": "python",
   "nbconvert_exporter": "python",
   "pygments_lexer": "ipython3",
   "version": "3.7.6"
  }
 },
 "nbformat": 4,
 "nbformat_minor": 4
}
