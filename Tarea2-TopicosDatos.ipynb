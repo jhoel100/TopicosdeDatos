{
 "cells": [
  {
   "cell_type": "code",
   "execution_count": 43,
   "metadata": {},
   "outputs": [
    {
     "name": "stdout",
     "output_type": "stream",
     "text": [
      "Completado\n"
     ]
    }
   ],
   "source": [
    "#nombre: Jhoel Salomon Tapara Quispe\n",
    "import pandas as pd\n",
    "import numpy as np\n",
    "\n",
    "peliculas = pd.read_csv('movies.csv')\n",
    "ratings = pd.read_csv('ratings.csv')\n",
    "\n",
    "persona_i = 1\n",
    "persona_j = 77\n",
    "\n",
    "fila1=np.zeros(193886)\n",
    "fila2=np.zeros(193886)\n",
    "\n",
    "for indice_fila, fila in ratings.iterrows():\n",
    "    if persona_i==fila[0]:\n",
    "        fila1[int(fila[1])-1]=fila[2]\n",
    "        \n",
    "    if persona_j==fila[0]:\n",
    "        fila2[int(fila[1])-1]=fila[2]\n",
    "        \n",
    "print(\"Completado\")"
   ]
  },
  {
   "cell_type": "code",
   "execution_count": 49,
   "metadata": {},
   "outputs": [
    {
     "name": "stdout",
     "output_type": "stream",
     "text": [
      "0.18056508903565283\n"
     ]
    }
   ],
   "source": [
    "import math\n",
    "xy=0\n",
    "x=0\n",
    "y=0\n",
    "xx=0\n",
    "yy=0\n",
    "\n",
    "for i in range(193886):\n",
    "    xy=xy+fila1[i]*fila2[i]\n",
    "    x=x+fila1[i]\n",
    "    y=y+fila2[i]\n",
    "    xx=xx+fila1[i]*fila1[i]\n",
    "    yy=yy+fila2[i]*fila1[i]\n",
    "\n",
    "r=(xy-((x*y)/193886))/(math.sqrt(xx-(x*x/193886))*math.sqrt(yy-(y*y/193886)))\n",
    "\n",
    "print(r)"
   ]
  },
  {
   "cell_type": "code",
   "execution_count": 45,
   "metadata": {},
   "outputs": [
    {
     "name": "stdout",
     "output_type": "stream",
     "text": [
      "[[1.         0.09762243]\n",
      " [0.09762243 1.        ]]\n"
     ]
    }
   ],
   "source": [
    "my_rho = np.corrcoef(fila1, fila2)\n",
    "print(my_rho)"
   ]
  },
  {
   "cell_type": "code",
   "execution_count": null,
   "metadata": {},
   "outputs": [],
   "source": []
  }
 ],
 "metadata": {
  "kernelspec": {
   "display_name": "Python 3",
   "language": "python",
   "name": "python3"
  },
  "language_info": {
   "codemirror_mode": {
    "name": "ipython",
    "version": 3
   },
   "file_extension": ".py",
   "mimetype": "text/x-python",
   "name": "python",
   "nbconvert_exporter": "python",
   "pygments_lexer": "ipython3",
   "version": "3.7.6"
  }
 },
 "nbformat": 4,
 "nbformat_minor": 4
}
