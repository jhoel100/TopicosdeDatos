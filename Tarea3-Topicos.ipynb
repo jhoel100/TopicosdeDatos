{
 "cells": [
  {
   "cell_type": "markdown",
   "metadata": {},
   "source": [
    "# Practica 3 Sistemas de Recomendacion KDtree"
   ]
  },
  {
   "cell_type": "markdown",
   "metadata": {},
   "source": [
    "Primero vamos a proceder con la lectura de la base de datos, se esta creando una matriz, dado que en este caso intersectar los valores en cada paso tomaria mucho tiempo, tambien se contabilia el numero de datos que se estan cargando en cada paso."
   ]
  },
  {
   "cell_type": "code",
   "execution_count": 1,
   "metadata": {},
   "outputs": [
    {
     "name": "stdout",
     "output_type": "stream",
     "text": [
      "Conteo de Procesados\n",
      "0 1000 2000 3000 4000 5000 6000 7000 8000 9000 10000 11000 12000 13000 14000 15000 16000 17000 18000 19000 20000 21000 22000 23000 24000 25000 26000 27000 28000 29000 30000 31000 32000 33000 34000 35000 36000 37000 38000 39000 40000 41000 42000 43000 44000 45000 46000 47000 48000 49000 50000 51000 52000 53000 54000 55000 56000 57000 58000 59000 60000 61000 62000 63000 64000 65000 66000 67000 68000 69000 70000 71000 72000 73000 74000 75000 76000 77000 78000 79000 80000 81000 82000 83000 84000 85000 86000 87000 88000 89000 90000 91000 92000 93000 94000 95000 96000 97000 98000 99000 100000 Completado\n"
     ]
    }
   ],
   "source": [
    "from math import *\n",
    "import pandas as pd\n",
    "import numpy as np\n",
    "\n",
    "# Test the kNN on the Iris Flowers dataset\n",
    "ratings = pd.read_csv('ratings.csv')\n",
    "#peliculas = pd.read_csv('movies.csv')\n",
    "\n",
    "nro_peliculas=193609\n",
    "nro_personas=610\n",
    "\n",
    "dataset=np.zeros((nro_personas, nro_peliculas))\n",
    "\n",
    "m=0\n",
    "pasos=1000\n",
    "print(\"Conteo de Procesados\")\n",
    "for indice_fila, fila in ratings.iterrows():\n",
    "    dataset[int(fila[0])-1][int(fila[1])-1]=float(fila[2])\n",
    "    if m%pasos==0:\n",
    "        print(m,end=\" \")\n",
    "    m=m+1\n",
    "print(\"Completado\")"
   ]
  },
  {
   "cell_type": "markdown",
   "metadata": {},
   "source": [
    "Eliminamos los valores que quedaron en 0, para hacer que sean el Nan de numpy y despues podamos desarrollar correctamente todo"
   ]
  },
  {
   "cell_type": "code",
   "execution_count": 3,
   "metadata": {
    "scrolled": true
   },
   "outputs": [
    {
     "name": "stdout",
     "output_type": "stream",
     "text": [
      "0 100 200 300 400 500 600 Completado\n"
     ]
    }
   ],
   "source": [
    "m=0\n",
    "pasos=100\n",
    "for i in range(len(dataset)):\n",
    "    for j in range(len(dataset[0])):\n",
    "        if dataset[i][j]==0:\n",
    "            dataset[i][j]=np.nan\n",
    "    if m%pasos==0:\n",
    "        print(m,end=\" \")\n",
    "    m=m+1\n",
    "print(\"Completado\")"
   ]
  },
  {
   "cell_type": "markdown",
   "metadata": {},
   "source": [
    "### Definimos la Funcion Cosenos"
   ]
  },
  {
   "cell_type": "code",
   "execution_count": 13,
   "metadata": {},
   "outputs": [],
   "source": [
    "def cosine(fila1, fila2,umbral):\n",
    "    xy=0\n",
    "    xx=0\n",
    "    yy=0\n",
    "\n",
    "    for i in range(len(fila1)):\n",
    "        if(fila1[i]!= np.nan and fila2[i]!= np.nan):\n",
    "            if(fila1[i]>=umbral and fila2[i]>=umbral):\n",
    "                xy=xy+fila1[i]*fila2[i]\n",
    "                xx=xx+fila1[i]*fila1[i]\n",
    "                yy=yy+fila2[i]*fila2[i]\n",
    "    \n",
    "    if xx==0 or yy==0:\n",
    "        ang=-1\n",
    "    else:\n",
    "        ang=xy/(sqrt(xx)*sqrt(yy))\n",
    "    return ang"
   ]
  },
  {
   "cell_type": "markdown",
   "metadata": {},
   "source": [
    "### Definimos la Funcion Pearson"
   ]
  },
  {
   "cell_type": "code",
   "execution_count": null,
   "metadata": {},
   "outputs": [],
   "source": [
    "def pearson(fila1, fila2,umbral):\n",
    "    xy=0\n",
    "    x=0\n",
    "    y=0\n",
    "    xx=0\n",
    "    yy=0\n",
    "    n=0\n",
    "\n",
    "    for i in range(len(fila1)):\n",
    "        if(fila1[i]!= np.nan and fila2[i]!= np.nan):\n",
    "            if(fila1[i]>=umbral and fila2[i]>=umbral):\n",
    "                n=n+1\n",
    "                xy=xy+fila1[i]*fila2[i]\n",
    "                x=x+fila1[i]\n",
    "                y=y+fila2[i]\n",
    "                xx=xx+fila1[i]*fila1[i]\n",
    "                yy=yy+fila2[i]*fila2[i]\n",
    "\n",
    "    if n==0:\n",
    "        r=-1\n",
    "    else:\n",
    "        if sqrt(xx-(x*x/n))==0 or sqrt(yy-(y*y/n))==0:\n",
    "            r=-1\n",
    "        else:\n",
    "            r=(xy-((x*y)/n))/(sqrt(xx-(x*x/n))*sqrt(yy-(y*y/n)))\n",
    "    return r"
   ]
  },
  {
   "cell_type": "markdown",
   "metadata": {},
   "source": [
    "### Definimos la Funcion Manhathan"
   ]
  },
  {
   "cell_type": "code",
   "execution_count": 12,
   "metadata": {},
   "outputs": [],
   "source": [
    "def manhathan(row1, row2,umbral):\n",
    "    distance = 0.0\n",
    "    for i in range(len(row1)):\n",
    "        if(row1[i]!= np.nan and row2[i]!= np.nan):\n",
    "            if row1[i]>=umbral and row2[i]>=umbral:\n",
    "                distance += abs(row1[i] - row2[i])\n",
    "    return distance\n"
   ]
  },
  {
   "cell_type": "markdown",
   "metadata": {},
   "source": [
    "### Definimos la Funcion Euclidean"
   ]
  },
  {
   "cell_type": "code",
   "execution_count": null,
   "metadata": {},
   "outputs": [],
   "source": [
    "def euclidean(row1, row2,umbral):\n",
    "    distance = 0.0\n",
    "    for i in range(len(row1)):\n",
    "        if(row1[i]!= np.nan and row2[i]!= np.nan):\n",
    "            if row1[i]>=umbral and row2[i]>=umbral:\n",
    "                distance += (row1[i] - row2[i])**2\n",
    "    return sqrt(distance)"
   ]
  },
  {
   "cell_type": "markdown",
   "metadata": {},
   "source": [
    "### Pruebas de Valores "
   ]
  },
  {
   "cell_type": "code",
   "execution_count": 14,
   "metadata": {},
   "outputs": [
    {
     "name": "stdout",
     "output_type": "stream",
     "text": [
      "0.0\n"
     ]
    }
   ],
   "source": [
    "row0=146\n",
    "row1=610\n",
    "distance = manhathan(dataset[row0-1], dataset[row0-1],umbral)\n",
    "print(distance)"
   ]
  },
  {
   "cell_type": "markdown",
   "metadata": {},
   "source": [
    "### Pruebas de Tiempo"
   ]
  },
  {
   "cell_type": "markdown",
   "metadata": {},
   "source": [
    "Para las pruebas de tiempo se usaron un cierto numero de valores para cada una de las funciones, anotando los tiempos demorados para poder graficarlos."
   ]
  },
  {
   "cell_type": "code",
   "execution_count": 15,
   "metadata": {},
   "outputs": [
    {
     "name": "stdout",
     "output_type": "stream",
     "text": [
      "Completado\n"
     ]
    }
   ],
   "source": [
    "row0=1\n",
    "umbral=0\n",
    "for row in dataset:\n",
    "    distance = manhathan(dataset[row0-1], row,umbral)\n",
    "    #if distance>0:\n",
    "    #    print(distance,end=\" \")\n",
    "#print(\"\")\n",
    "print(\"Completado\")"
   ]
  },
  {
   "cell_type": "code",
   "execution_count": 27,
   "metadata": {},
   "outputs": [],
   "source": [
    "from time import time\n",
    "import matplotlib.pyplot as plt"
   ]
  },
  {
   "cell_type": "code",
   "execution_count": 30,
   "metadata": {},
   "outputs": [
    {
     "name": "stdout",
     "output_type": "stream",
     "text": [
      "0 10 20 30 40 50 60 70 80 90 100 110 120 130 140 150 160 170 180 190 200 210 220 230 240 250 260 270 280 290 300 310 320 330 340 350 360 370 380 390 400 410 420 430 440 450 460 470 480 490 500 510 520 530 540 550 560 570 580 590 600 "
     ]
    }
   ],
   "source": [
    "row0=1\n",
    "umbral=0\n",
    "tiempos=[]\n",
    "cantidad=[]\n",
    "\n",
    "for i in range(0,nro_personas,10):\n",
    "    cantidad.append(i)\n",
    "    start_time = time()\n",
    "    for j in range(i):\n",
    "        distance = manhathan(dataset[0], dataset[j],umbral)\n",
    "    tiempos.append(time()-start_time)\n",
    "    print(i,end=\" \")"
   ]
  },
  {
   "cell_type": "code",
   "execution_count": 31,
   "metadata": {},
   "outputs": [
    {
     "data": {
      "text/plain": [
       "[<matplotlib.lines.Line2D at 0x1bb66d62b08>]"
      ]
     },
     "execution_count": 31,
     "metadata": {},
     "output_type": "execute_result"
    },
    {
     "data": {
      "image/png": "[encoded data removed]",
      "text/plain": [
       "<Figure size 432x288 with 1 Axes>"
      ]
     },
     "metadata": {
      "needs_background": "light"
     },
     "output_type": "display_data"
    }
   ],
   "source": [
    "plt.plot(cantidad,tiempos, label='linear')"
   ]
  },
  {
   "cell_type": "code",
   "execution_count": 16,
   "metadata": {},
   "outputs": [
    {
     "name": "stdout",
     "output_type": "stream",
     "text": [
      "Completado\n"
     ]
    }
   ],
   "source": [
    "row0=1\n",
    "umbral=2\n",
    "for row in dataset:\n",
    "    distance = euclidean(dataset[row0-1], row,umbral)\n",
    "    #if distance>0:\n",
    "    #    print(distance,end=\" \")\n",
    "#print(\"\")\n",
    "print(\"Completado\")"
   ]
  },
  {
   "cell_type": "code",
   "execution_count": 32,
   "metadata": {},
   "outputs": [
    {
     "name": "stdout",
     "output_type": "stream",
     "text": [
      "0 30 60 90 120 150 180 210 240 270 300 330 360 390 420 450 480 510 540 570 600 "
     ]
    }
   ],
   "source": [
    "umbral=0\n",
    "tiempos=[]\n",
    "cantidad=[]\n",
    "\n",
    "for i in range(0,nro_personas,30):\n",
    "    cantidad.append(i)\n",
    "    start_time = time()\n",
    "    for j in range(i):\n",
    "        distance = manhathan(dataset[0], dataset[j],umbral)\n",
    "    tiempos.append(time()-start_time)\n",
    "    print(i,end=\" \")"
   ]
  },
  {
   "cell_type": "code",
   "execution_count": 33,
   "metadata": {},
   "outputs": [
    {
     "data": {
      "text/plain": [
       "[<matplotlib.lines.Line2D at 0x1bb66fae4c8>]"
      ]
     },
     "execution_count": 33,
     "metadata": {},
     "output_type": "execute_result"
    },
    {
     "data": {
      "image/png": "[encoded data removed]",
      "text/plain": [
       "<Figure size 432x288 with 1 Axes>"
      ]
     },
     "metadata": {
      "needs_background": "light"
     },
     "output_type": "display_data"
    }
   ],
   "source": [
    "plt.plot(cantidad,tiempos, label='linear')"
   ]
  },
  {
   "cell_type": "code",
   "execution_count": 17,
   "metadata": {},
   "outputs": [
    {
     "name": "stdout",
     "output_type": "stream",
     "text": [
      "Completado\n"
     ]
    }
   ],
   "source": [
    "row0=1\n",
    "umbral=2\n",
    "for row in dataset:\n",
    "    distance = pearson(dataset[row0-1], row,umbral)\n",
    "    #if distance>0:\n",
    "    #    print(distance,end=\" \")\n",
    "#print(\"\")\n",
    "print(\"Completado\")"
   ]
  },
  {
   "cell_type": "code",
   "execution_count": 18,
   "metadata": {},
   "outputs": [
    {
     "name": "stdout",
     "output_type": "stream",
     "text": [
      "Completado\n"
     ]
    }
   ],
   "source": [
    "row0=1\n",
    "umbral=2\n",
    "for row in dataset:\n",
    "    distance = cosine(dataset[row0-1], row,umbral)\n",
    "    #if distance>0:\n",
    "    #    print(distance,end=\" \")\n",
    "#print(\"\")\n",
    "print(\"Completado\")"
   ]
  },
  {
   "cell_type": "markdown",
   "metadata": {},
   "source": [
    "### Buscar vecinos"
   ]
  },
  {
   "cell_type": "code",
   "execution_count": 19,
   "metadata": {},
   "outputs": [],
   "source": [
    "def get_neighbors(train, test_row, num_neighbors,distancia,umbral):\n",
    "    distances = list()\n",
    "    i=0\n",
    "    for train_row in train:\n",
    "        dist = distancia(test_row, train_row,umbral)\n",
    "        distances.append((i, dist))\n",
    "        i=i+1\n",
    "    distances.sort(key=lambda tup: tup[1])\n",
    "    return distances"
   ]
  },
  {
   "cell_type": "markdown",
   "metadata": {},
   "source": [
    "### KNN Fuerza Bruta"
   ]
  },
  {
   "cell_type": "code",
   "execution_count": 25,
   "metadata": {},
   "outputs": [
    {
     "name": "stdout",
     "output_type": "stream",
     "text": [
      "id: 146 distancia: 0.0\n",
      "id: 174 distancia: 0.0\n",
      "id: 405 distancia: 0.0\n",
      "id: 609 distancia: 0.0\n",
      "id: 52 distancia: 0.5\n",
      "id: 428 distancia: 0.5\n",
      "id: 507 distancia: 0.5\n",
      "id: 544 distancia: 0.5\n",
      "id: 359 distancia: 1.0\n",
      "id: 574 distancia: 1.0\n",
      "Completado\n"
     ]
    }
   ],
   "source": [
    "#Nro de vecinos más cercanos, Función de Distancia (Manhattan, Euclides, Pearson, Coseno)\n",
    "#Id. ó nombre de usuario , Umbral\n",
    "#euclidean  manhathan  pearson  cosine\n",
    "persona = 610\n",
    "vecinos=10\n",
    "umbral=0\n",
    "\n",
    "neighbors = get_neighbors(dataset, dataset[persona-1], vecinos,euclidean,umbral)\n",
    "for i in range(vecinos):\n",
    "    print(\"id: \"+str(neighbors[i][0])+\" distancia: \"+str(neighbors[i][1]))\n",
    "print(\"Completado\")"
   ]
  },
  {
   "cell_type": "code",
   "execution_count": 23,
   "metadata": {},
   "outputs": [
    {
     "name": "stdout",
     "output_type": "stream",
     "text": [
      "id: 146 distancia: 0.0\n",
      "id: 174 distancia: 0.0\n",
      "id: 405 distancia: 0.0\n",
      "id: 609 distancia: 0.0\n",
      "id: 52 distancia: 0.5\n",
      "id: 428 distancia: 0.5\n",
      "id: 507 distancia: 0.5\n",
      "id: 544 distancia: 0.5\n",
      "id: 359 distancia: 1.0\n",
      "id: 574 distancia: 1.0\n",
      "Completado\n"
     ]
    }
   ],
   "source": [
    "#Nro de vecinos más cercanos, Función de Distancia (Manhattan, Euclides, Pearson, Coseno)\n",
    "#Id. ó nombre de usuario , Umbral\n",
    "#euclidean  manhathan  pearson  cosine\n",
    "persona = 610\n",
    "vecinos=10\n",
    "umbral=0\n",
    "\n",
    "neighbors = get_neighbors(dataset, dataset[persona-1], vecinos,manhathan,umbral)\n",
    "for i in range(vecinos):\n",
    "    print(\"id: \"+str(neighbors[i][0])+\" distancia: \"+str(neighbors[i][1]))\n",
    "print(\"Completado\")"
   ]
  },
  {
   "cell_type": "code",
   "execution_count": 24,
   "metadata": {},
   "outputs": [
    {
     "name": "stdout",
     "output_type": "stream",
     "text": [
      "id: 146 distancia: -1\n",
      "id: 174 distancia: -1\n",
      "id: 405 distancia: -1\n",
      "id: 460 distancia: 0.7485150685758204\n",
      "id: 84 distancia: 0.7662141663581954\n",
      "id: 206 distancia: 0.8040894645524177\n",
      "id: 152 distancia: 0.824814454474088\n",
      "id: 328 distancia: 0.8357039285435193\n",
      "id: 307 distancia: 0.8496624439566931\n",
      "id: 516 distancia: 0.8533239901357758\n",
      "Completado\n"
     ]
    }
   ],
   "source": [
    "#Nro de vecinos más cercanos, Función de Distancia (Manhattan, Euclides, Pearson, Coseno)\n",
    "#Id. ó nombre de usuario , Umbral\n",
    "#euclidean  manhathan  pearson  cosine\n",
    "persona = 610\n",
    "vecinos=10\n",
    "umbral=0\n",
    "\n",
    "neighbors = get_neighbors(dataset, dataset[persona-1], vecinos,cosine,umbral)\n",
    "for i in range(vecinos):\n",
    "    print(\"id: \"+str(neighbors[i][0])+\" distancia: \"+str(neighbors[i][1]))\n",
    "print(\"Completado\")"
   ]
  },
  {
   "cell_type": "code",
   "execution_count": 26,
   "metadata": {
    "scrolled": false
   },
   "outputs": [
    {
     "name": "stdout",
     "output_type": "stream",
     "text": [
      "id: 52 distancia: -1\n",
      "id: 146 distancia: -1\n",
      "id: 174 distancia: -1\n",
      "id: 213 distancia: -1\n",
      "id: 277 distancia: -1\n",
      "id: 359 distancia: -1\n",
      "id: 405 distancia: -1\n",
      "id: 428 distancia: -1\n",
      "id: 430 distancia: -1\n",
      "id: 507 distancia: -1\n",
      "Completado\n"
     ]
    }
   ],
   "source": [
    "#Nro de vecinos más cercanos, Función de Distancia (Manhattan, Euclides, Pearson, Coseno)\n",
    "#Id. ó nombre de usuario , Umbral\n",
    "#euclidean  manhathan  pearson  cosine\n",
    "persona = 610\n",
    "vecinos=10\n",
    "umbral=0\n",
    "\n",
    "neighbors = get_neighbors(dataset, dataset[persona-1], vecinos,pearson,umbral)\n",
    "for i in range(vecinos):\n",
    "    print(\"id: \"+str(neighbors[i][0])+\" distancia: \"+str(neighbors[i][1]))\n",
    "print(\"Completado\")"
   ]
  },
  {
   "cell_type": "code",
   "execution_count": null,
   "metadata": {},
   "outputs": [],
   "source": []
  }
 ],
 "metadata": {
  "kernelspec": {
   "display_name": "Python 3",
   "language": "python",
   "name": "python3"
  },
  "language_info": {
   "codemirror_mode": {
    "name": "ipython",
    "version": 3
   },
   "file_extension": ".py",
   "mimetype": "text/x-python",
   "name": "python",
   "nbconvert_exporter": "python",
   "pygments_lexer": "ipython3",
   "version": "3.7.6"
  }
 },
 "nbformat": 4,
 "nbformat_minor": 4
}
